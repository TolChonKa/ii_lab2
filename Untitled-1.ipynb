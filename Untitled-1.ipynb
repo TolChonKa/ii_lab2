{
 "cells": [
  {
   "cell_type": "code",
   "execution_count": null,
   "id": "7e418188",
   "metadata": {},
   "outputs": [],
   "source": []
  },
  {
   "cell_type": "code",
   "execution_count": null,
   "id": "7964c054",
   "metadata": {},
   "outputs": [],
   "source": []
  }
 ],
 "metadata": {
  "language_info": {
   "name": "python"
  }
 },
 "nbformat": 4,
 "nbformat_minor": 5
}
